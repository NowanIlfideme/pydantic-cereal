{
 "cells": [
  {
   "cell_type": "markdown",
   "metadata": {},
   "source": [
    "# Polars Usage Example"
   ]
  },
  {
   "cell_type": "markdown",
   "metadata": {},
   "source": [
    "This provides an minimal usage example for `pydantic-cereal` with Polars.\n",
    "To start, use the following imports and create a global `cereal` object:"
   ]
  },
  {
   "cell_type": "code",
   "execution_count": 1,
   "metadata": {},
   "outputs": [],
   "source": [
    "\"\"\"Minimal imports.\"\"\"\n",
    "\n",
    "import polars as pl\n",
    "from pydantic import BaseModel, ConfigDict\n",
    "from pydantic_cereal import Cereal\n",
    "from pydantic_cereal.examples.ex_pl import pl_read, pl_write\n",
    "\n",
    "cereal = Cereal()  # global variable"
   ]
  },
  {
   "cell_type": "markdown",
   "metadata": {},
   "source": [
    "We must add reader and writer classes for it. \n",
    "These must accept [`fsspec`](https://filesystem-spec.readthedocs.io/en/latest/) file system\n",
    "and path (within that filesystem) as inputs.\n",
    "We can register these with our `cereal` object by creating a wrapped (`Annotated`) type."
   ]
  },
  {
   "cell_type": "code",
   "execution_count": 2,
   "metadata": {},
   "outputs": [],
   "source": [
    "MyDF = cereal.wrap_type(pl.DataFrame, reader=pl_read, writer=pl_write)"
   ]
  },
  {
   "cell_type": "markdown",
   "metadata": {},
   "source": [
    "We can use this type in a Pydantic model:"
   ]
  },
  {
   "cell_type": "code",
   "execution_count": 3,
   "metadata": {},
   "outputs": [],
   "source": [
    "class ExampleModel(BaseModel):\n",
    "    \"\"\"Example model.\"\"\"\n",
    "\n",
    "    model_config = ConfigDict(arbitrary_types_allowed=True)\n",
    "\n",
    "    df: MyDF  # NOTE: Make sure to use the wrapped type!\n",
    "    value: str = \"default_value\""
   ]
  },
  {
   "cell_type": "markdown",
   "metadata": {},
   "source": [
    "You can instantiate objects as usual:"
   ]
  },
  {
   "cell_type": "code",
   "execution_count": 4,
   "metadata": {},
   "outputs": [],
   "source": [
    "mdl = ExampleModel(df=pl.DataFrame({\"foo\": [\"a\", \"b\", \"c\"], \"bar\": [1, 2, 3]}))"
   ]
  },
  {
   "cell_type": "markdown",
   "metadata": {},
   "source": [
    "Now, you can write your model to an arbitrary directory-like `fsspec` URI.\n",
    "In this example, we're writing to a temporary [`MemoryFileSystem`](https://filesystem-spec.readthedocs.io/en/latest/api.html#fsspec.implementations.memory.MemoryFileSystem):"
   ]
  },
  {
   "cell_type": "code",
   "execution_count": 5,
   "metadata": {},
   "outputs": [
    {
     "data": {
      "text/plain": [
       "'/example_model'"
      ]
     },
     "execution_count": 5,
     "metadata": {},
     "output_type": "execute_result"
    }
   ],
   "source": [
    "cereal.write_model(mdl, \"memory://example_model\")"
   ]
  },
  {
   "cell_type": "markdown",
   "metadata": {},
   "source": [
    "And we can load another object from there:"
   ]
  },
  {
   "cell_type": "code",
   "execution_count": 22,
   "metadata": {},
   "outputs": [
    {
     "data": {
      "text/html": [
       "<div><style>\n",
       ".dataframe > thead > tr,\n",
       ".dataframe > tbody > tr {\n",
       "  text-align: right;\n",
       "  white-space: pre-wrap;\n",
       "}\n",
       "</style>\n",
       "<small>shape: (3, 2)</small><table border=\"1\" class=\"dataframe\"><thead><tr><th>foo</th><th>bar</th></tr><tr><td>str</td><td>i64</td></tr></thead><tbody><tr><td>&quot;a&quot;</td><td>1</td></tr><tr><td>&quot;b&quot;</td><td>2</td></tr><tr><td>&quot;c&quot;</td><td>3</td></tr></tbody></table></div>"
      ],
      "text/plain": [
       "shape: (3, 2)\n",
       "┌─────┬─────┐\n",
       "│ foo ┆ bar │\n",
       "│ --- ┆ --- │\n",
       "│ str ┆ i64 │\n",
       "╞═════╪═════╡\n",
       "│ a   ┆ 1   │\n",
       "│ b   ┆ 2   │\n",
       "│ c   ┆ 3   │\n",
       "└─────┴─────┘"
      ]
     },
     "execution_count": 22,
     "metadata": {},
     "output_type": "execute_result"
    }
   ],
   "source": [
    "obj = cereal.read_model(\"memory://example_model\")\n",
    "assert isinstance(obj, ExampleModel)\n",
    "obj.df"
   ]
  },
  {
   "cell_type": "markdown",
   "metadata": {},
   "source": [
    "If you require a specific type (or base type), you can specify this in `read_model`:"
   ]
  },
  {
   "cell_type": "code",
   "execution_count": 8,
   "metadata": {},
   "outputs": [
    {
     "data": {
      "text/html": [
       "<div><style>\n",
       ".dataframe > thead > tr,\n",
       ".dataframe > tbody > tr {\n",
       "  text-align: right;\n",
       "  white-space: pre-wrap;\n",
       "}\n",
       "</style>\n",
       "<small>shape: (3, 2)</small><table border=\"1\" class=\"dataframe\"><thead><tr><th>foo</th><th>bar</th></tr><tr><td>str</td><td>i64</td></tr></thead><tbody><tr><td>&quot;a&quot;</td><td>1</td></tr><tr><td>&quot;b&quot;</td><td>2</td></tr><tr><td>&quot;c&quot;</td><td>3</td></tr></tbody></table></div>"
      ],
      "text/plain": [
       "shape: (3, 2)\n",
       "┌─────┬─────┐\n",
       "│ foo ┆ bar │\n",
       "│ --- ┆ --- │\n",
       "│ str ┆ i64 │\n",
       "╞═════╪═════╡\n",
       "│ a   ┆ 1   │\n",
       "│ b   ┆ 2   │\n",
       "│ c   ┆ 3   │\n",
       "└─────┴─────┘"
      ]
     },
     "execution_count": 8,
     "metadata": {},
     "output_type": "execute_result"
    }
   ],
   "source": [
    "cereal.read_model(\"memory://example_model\", supercls=ExampleModel).df"
   ]
  },
  {
   "cell_type": "markdown",
   "metadata": {},
   "source": [
    "Inspecting the path, you can see the file structure:"
   ]
  },
  {
   "cell_type": "code",
   "execution_count": 9,
   "metadata": {},
   "outputs": [],
   "source": [
    "from fsspec.implementations.memory import MemoryFileSystem  # noqa\n",
    "\n",
    "fs = MemoryFileSystem()"
   ]
  },
  {
   "cell_type": "code",
   "execution_count": 10,
   "metadata": {},
   "outputs": [
    {
     "data": {
      "text/plain": [
       "['/example_model/e0cb38c0b7ce46b1b36c70116b98ad0e',\n",
       " '/example_model/model.json',\n",
       " '/example_model/model.schema.json']"
      ]
     },
     "execution_count": 10,
     "metadata": {},
     "output_type": "execute_result"
    }
   ],
   "source": [
    "fs.glob(\"example_model/*\")"
   ]
  }
 ],
 "metadata": {
  "kernelspec": {
   "display_name": "pyd-cereal",
   "language": "python",
   "name": "python3"
  },
  "language_info": {
   "codemirror_mode": {
    "name": "ipython",
    "version": 3
   },
   "file_extension": ".py",
   "mimetype": "text/x-python",
   "name": "python",
   "nbconvert_exporter": "python",
   "pygments_lexer": "ipython3",
   "version": "3.9.18"
  }
 },
 "nbformat": 4,
 "nbformat_minor": 2
}
